{
 "cells": [
  {
   "cell_type": "markdown",
   "metadata": {},
   "source": [
    "## Mean, Median, and Mode\n",
    "What can we learn from looking at a group of numbers?\n",
    "\n",
    "In Machine Learning (and in mathematics) there are often three values that interests us:\n",
    "\n",
    "- Mean - The average value\n",
    "- Median - The mid point value\n",
    "- Mode - The most common value\n",
    "\n",
    "Example: We have registered the speed of 13 cars:"
   ]
  },
  {
   "cell_type": "code",
   "execution_count": 1,
   "metadata": {},
   "outputs": [],
   "source": [
    "import numpy as np  # linear algebra"
   ]
  },
  {
   "cell_type": "markdown",
   "metadata": {},
   "source": [
    "### Mean is the average value of the list"
   ]
  },
  {
   "cell_type": "code",
   "execution_count": 2,
   "metadata": {},
   "outputs": [
    {
     "name": "stdout",
     "output_type": "stream",
     "text": [
      "89.76923076923077\n"
     ]
    }
   ],
   "source": [
    "speed = [99,86,87,88,111,86,103,87,94,78,77,85,86] # speed of cars in miles per hour\n",
    "x = np.mean(speed) # mean of speed\n",
    "\n",
    "print(x) # Display the mean of speed"
   ]
  },
  {
   "cell_type": "markdown",
   "metadata": {},
   "source": [
    "### Median is the middle value of the list"
   ]
  },
  {
   "cell_type": "code",
   "execution_count": 3,
   "metadata": {},
   "outputs": [
    {
     "name": "stdout",
     "output_type": "stream",
     "text": [
      "87.0\n"
     ]
    }
   ],
   "source": [
    "x = np.median(speed) # median of speed\n",
    "print(x) # Display the median of speed"
   ]
  },
  {
   "cell_type": "code",
   "execution_count": 4,
   "metadata": {},
   "outputs": [
    {
     "name": "stdout",
     "output_type": "stream",
     "text": [
      "86.5\n"
     ]
    }
   ],
   "source": [
    "speed1 = [99,86,87,88,111,86,86,103,87,94,78,77,85,86] # speed of cars in miles per hour\n",
    "x1 = np.median(speed1) # median of speed\n",
    "\n",
    "print(x1) # Display the median of speed"
   ]
  },
  {
   "cell_type": "markdown",
   "metadata": {},
   "source": [
    "### Mode is the most common value in the list"
   ]
  },
  {
   "cell_type": "code",
   "execution_count": 5,
   "metadata": {},
   "outputs": [
    {
     "name": "stdout",
     "output_type": "stream",
     "text": [
      "ModeResult(mode=array([86]), count=array([3]))\n"
     ]
    }
   ],
   "source": [
    "from scipy import stats # scipy.stats is a sub-package of scipy\n",
    "\n",
    "speed = [99,86,87,88,111,86,103,87,94,78,77,85,86] # speed of cars in miles per hour\n",
    "x = stats.mode(speed) # mode of speed\n",
    "\n",
    "print(x) # Display the mode of speed"
   ]
  },
  {
   "cell_type": "markdown",
   "metadata": {},
   "source": [
    "## What is Standard Deviation?\n",
    ">**The Standard Deviation is a measure of how far a set of numbers are from the mean**\n",
    "\n",
    ">put simply: *how far to the avg. are values in the column* i.e. **how close/far are values from the mean value**\n",
    "\n",
    ">**thus, first calculate the mean value of the column, then calculate the standard deviation of the column**\n",
    "\n",
    "*Standard deviation is a number that describes how spread out the values are*\n",
    "\n",
    "A low standard deviation means that most of the numbers/values are close to the mean (average) value\n",
    "\n",
    "A high standard deviation means that the values are spread out over a wider range\n",
    "\n",
    "Example: This time we have registered the speed of 7 cars:"
   ]
  },
  {
   "cell_type": "code",
   "execution_count": 6,
   "metadata": {},
   "outputs": [
    {
     "name": "stdout",
     "output_type": "stream",
     "text": [
      "86.42857142857143\n",
      "0.9035079029052513\n"
     ]
    }
   ],
   "source": [
    "speed = [86,87,88,86,87,85,86] # speed of 7 cars in miles per hour\n",
    "x1 = np.mean(speed) # mean of speed\n",
    "x2 = np.std(speed) # standard deviation of speed\n",
    "\n",
    "print(x1) # Display the mean of speed\n",
    "print(x2) # Display the standard deviation of speed"
   ]
  },
  {
   "cell_type": "markdown",
   "metadata": {},
   "source": [
    "### Meaning that most of the values are within the range of 0.9 (from the mean value), which is 86.4.\n",
    "\n",
    "Let us do the same with a selection of numbers/values with a wider range:"
   ]
  },
  {
   "cell_type": "code",
   "execution_count": 7,
   "metadata": {},
   "outputs": [
    {
     "name": "stdout",
     "output_type": "stream",
     "text": [
      "77.42857142857143\n",
      "37.84501153334721\n"
     ]
    }
   ],
   "source": [
    "speed = [32,111,138,28,59,77,97] # speed of 7 cars in miles per hour with a wider range\n",
    "x1 = np.mean(speed) # mean of speed\n",
    "x2 = np.std(speed) # standard deviation of speed\n",
    "\n",
    "print(x1) # Display the mean of speed\n",
    "print(x2) # Display the standard deviation of speed"
   ]
  },
  {
   "cell_type": "markdown",
   "metadata": {},
   "source": [
    "Meaning that most of the values are within the range of 37.85 from the mean value, which is 77.4.\n",
    "\n",
    "As you can see, a higher standard deviation indicates that the values are spread out over a wider range."
   ]
  },
  {
   "cell_type": "markdown",
   "metadata": {},
   "source": [
    "## Variance\n",
    "**Variance is another number that indicates how spread out the values are**\n",
    "\n",
    "In fact, if you take the square root of the variance, you get the standard deviation!\n",
    "\n",
    "Or the other way around, if you multiply the standard deviation by itself, you get the variance!"
   ]
  },
  {
   "cell_type": "code",
   "execution_count": 8,
   "metadata": {},
   "outputs": [
    {
     "name": "stdout",
     "output_type": "stream",
     "text": [
      "1432.2448979591834\n",
      "37.84501153334721\n",
      "1432.2448979591834\n"
     ]
    }
   ],
   "source": [
    "speed = [32,111,138,28,59,77,97] # speed of 7 cars in miles per hour with a wider range\n",
    "x1 = np.var(speed) # variance of speed\n",
    "x2 = np.sqrt(x1) # square root of variance of speed\n",
    "x3 = np.power(x2,2) # power of standard deviation of speed\n",
    "\n",
    "print(x1) # Display the variance of speed\n",
    "print(x2) # Display the square root of variance of speed\n",
    "print(x3) # Display the power of standard deviation of speed"
   ]
  },
  {
   "cell_type": "markdown",
   "metadata": {},
   "source": [
    "## What are Percentiles?\n",
    "Percentiles are used in statistics to give you a number that describes the value that a given percent of the values are lower than\n",
    "\n",
    "Example: Let's say we have an array of the ages of all the people that lives in our street\n",
    "\n",
    "Use the NumPy percentile() method to find the percentiles:"
   ]
  },
  {
   "cell_type": "code",
   "execution_count": 9,
   "metadata": {},
   "outputs": [
    {
     "name": "stdout",
     "output_type": "stream",
     "text": [
      "43.0\n"
     ]
    }
   ],
   "source": [
    "ages = [5,31,43,48,50,41,7,11,15,39,80,82,32,2,8,6,25,36,27,61,31] # ages of people living in our street\n",
    "x = np.percentile(ages, 75) # 75th percentile of ages\n",
    "\n",
    "print(x) # Display the 75th percentile of ages"
   ]
  },
  {
   "cell_type": "markdown",
   "metadata": {},
   "source": [
    "The value 43, tells us that 75% of the people are 43 or younger"
   ]
  },
  {
   "cell_type": "code",
   "execution_count": 10,
   "metadata": {},
   "outputs": [
    {
     "name": "stdout",
     "output_type": "stream",
     "text": [
      "61.0\n"
     ]
    }
   ],
   "source": [
    "# What is the age that 90% of the people are younger than?\n",
    "\n",
    "ages = [5,31,43,48,50,41,7,11,15,39,80,82,32,2,8,6,25,36,27,61,31] # ages of people living in our street\n",
    "x = np.percentile(ages, 90) # 90th percentile of ages\n",
    "\n",
    "print(x) # Display the 90th percentile of ages"
   ]
  },
  {
   "cell_type": "markdown",
   "metadata": {},
   "source": [
    "## Data Distribution\n",
    "Earlier we worked with very small amounts of data in our examples, just to understand the different concepts\n",
    "\n",
    "In the real world, the datasets are much bigger, but it can be difficult to gather real world data, at least at an early stage of a project\n",
    "\n",
    "### How Can we Get Big DataSets?\n",
    ">To create big datasets for testing, we use the Python module NumPy, which comes with a number of methods to create random datasets, of any size"
   ]
  },
  {
   "cell_type": "code",
   "execution_count": 11,
   "metadata": {},
   "outputs": [
    {
     "name": "stdout",
     "output_type": "stream",
     "text": [
      "[0.95408633 0.56072583 4.62691072 1.65105352 2.89946373 3.63543931\n",
      " 2.52646258 2.76337531 2.92434726 0.70279811 1.66270624 2.83007448\n",
      " 0.27944708 3.42968974 3.06805332 2.39951162 3.10026439 4.72491943\n",
      " 3.89195087 0.01417456 3.48586695 1.63293285 2.44904719 2.9682227\n",
      " 2.44040089 1.98183685 1.88160725 4.40578865 0.12840612 3.49841401\n",
      " 4.51517851 2.6692936  1.53751689 1.21137293 2.40560893 3.38080092\n",
      " 4.81607421 3.8017105  4.25978018 2.54557088 2.5495522  1.12582103\n",
      " 1.35733291 3.59409171 4.27772739 0.84490759 0.04298743 4.51872967\n",
      " 2.12159417 3.69821682 2.82090461 2.40369663 3.50202354 2.89891014\n",
      " 1.79894632 1.19740883 0.29385197 2.9087162  2.7732582  3.52579173\n",
      " 2.50742918 4.04210355 0.46558754 1.96939008 4.63483657 3.79290233\n",
      " 1.61894958 1.33410954 2.23324572 1.61839533 0.6582658  1.6016082\n",
      " 1.8005016  2.03394439 1.74633935 2.69348274 2.72860674 0.23935391\n",
      " 1.16299718 1.12155702 1.98493726 4.16687149 1.69276262 1.08710289\n",
      " 0.29606001 2.82310625 3.26292945 1.75250734 0.26137248 2.31445119\n",
      " 2.63618742 1.83279042 2.59981665 0.45771072 3.12716159 2.45893042\n",
      " 1.47443221 4.67499107 2.24089257 0.92143772 0.7900017  3.90601665\n",
      " 3.72636827 2.35794586 3.1590652  1.69770912 1.41181007 0.78818138\n",
      " 0.86678801 3.88630679 4.76748472 4.12154549 3.71525687 3.64459404\n",
      " 1.81132606 4.37472018 4.95407584 2.84431927 3.27047417 4.24820691\n",
      " 0.13058546 0.89812571 2.73279016 2.81200596 1.68633303 2.02286627\n",
      " 3.48082276 2.64007807 0.89930114 4.44026254 2.19708634 1.52213025\n",
      " 1.38713941 0.52109245 2.06030843 0.84773444 0.31296907 4.5429435\n",
      " 0.97255016 0.35488904 3.07814812 1.26200047 1.78487038 0.72359706\n",
      " 2.86893367 0.51106035 4.60442666 0.56109038 0.02422566 2.62687859\n",
      " 2.70269429 3.59347646 4.16085956 1.70642792 2.34263024 2.73996402\n",
      " 3.29977071 2.73652833 1.55727311 1.38594511 4.4135726  4.7446268\n",
      " 2.8591596  3.05845274 2.80231333 0.26181061 1.63915853 3.74545353\n",
      " 4.96294077 1.35600601 0.33512814 1.78708882 2.83677535 3.54681017\n",
      " 3.51913119 0.14402028 1.89291684 3.29366891 1.69029799 2.47008167\n",
      " 1.53075297 3.31077319 1.99290881 0.64270277 1.06997079 1.62855439\n",
      " 1.46277985 3.68806962 3.33280264 1.9944739  0.76485675 2.00333353\n",
      " 2.30892482 0.99103668 2.06931138 3.14640504 1.40524089 4.10424761\n",
      " 4.53177018 2.04565804 1.81169954 0.60336462 3.46642099 1.03640461\n",
      " 3.31369771 4.58289129 1.79109386 1.84642542 1.58261732 1.10778523\n",
      " 4.92037997 0.86847686 2.90489919 2.52544056 4.12855234 3.38377491\n",
      " 0.59548131 0.2086847  1.74813614 1.24795007 3.7495259  2.35086253\n",
      " 0.59884864 3.08036735 3.90856666 1.46601297 2.5890544  3.03605901\n",
      " 3.67985899 1.12396935 1.83487501 0.65400062 2.19062925 1.67984389\n",
      " 2.4252463  1.9368373  4.14636877 0.87460262 3.11299201 4.06925745\n",
      " 1.47030772 1.34334065 0.48024282 0.27370461 3.86657643 1.34881\n",
      " 0.33862439 2.42049972 4.176322   1.08701038]\n"
     ]
    }
   ],
   "source": [
    "x = np.random.uniform(0,5,250) # uniform distribution of random numbers\n",
    "\n",
    "print(x) # Display the uniform distribution of random numbers"
   ]
  },
  {
   "cell_type": "markdown",
   "metadata": {},
   "source": [
    "## Histogram\n",
    "To visualize the dataset, we can draw a histogram with the data we collected\n",
    "\n",
    "We will use the Python module Matplotlib to draw a histogram"
   ]
  },
  {
   "cell_type": "code",
   "execution_count": 12,
   "metadata": {},
   "outputs": [
    {
     "data": {
      "image/png": "[encoded data removed]",
      "text/plain": [
       "<Figure size 432x288 with 1 Axes>"
      ]
     },
     "metadata": {
      "needs_background": "light"
     },
     "output_type": "display_data"
    }
   ],
   "source": [
    "# Draw a histogram of the array\n",
    "import matplotlib.pyplot as plt # matplotlib.pyplot is a sub-package of matplotlib\n",
    "\n",
    "x = np.random.uniform(0,5,250) # uniform distribution of random numbers\n",
    "\n",
    "plt.hist(x, 5) # histogram of random numbers\n",
    "plt.show() # display the histogram of random numbers"
   ]
  },
  {
   "cell_type": "markdown",
   "metadata": {},
   "source": [
    "### Histogram Explained\n",
    "We use the array from the example above to draw a histogram with 5 bars\n",
    "\n",
    "The 1st bar represents how many (COUNT) values in the array are between 0 and 1\n",
    "\n",
    "The 2nd bar represents how many(COUNT) values are between 1 and 2\n",
    "\n",
    "Etc.\n",
    "\n",
    "Which gives us this result:\n",
    "- 48 values are between 0 and 1\n",
    "- 41 values are between 1 and 2\n",
    "- 59 values are between 2 and 3\n",
    "- 60 values are between 3 and 4\n",
    "- 45 values are between 4 and 5"
   ]
  },
  {
   "cell_type": "markdown",
   "metadata": {},
   "source": [
    "## Big Data Distributions\n",
    ">An array containing 250 values is not considered very big, but now you know how to create a random set of values, and by changing the ***parameters***, you can create the dataset as big as you want"
   ]
  },
  {
   "cell_type": "code",
   "execution_count": 13,
   "metadata": {},
   "outputs": [
    {
     "data": {
      "image/png": "[encoded data removed]",
      "text/plain": [
       "<Figure size 432x288 with 1 Axes>"
      ]
     },
     "metadata": {
      "needs_background": "light"
     },
     "output_type": "display_data"
    }
   ],
   "source": [
    "# Create an array containing 1,000,000 random numbers, and diplay them using a histogram\n",
    "x = np.random.uniform(0.0,5.0,1000000) # uniform distribution of random numbers\n",
    "\n",
    "plt.hist(x, 100) # histogram of random numbers in 100 bins\n",
    "plt.show() # display the histogram of random numbers"
   ]
  },
  {
   "cell_type": "markdown",
   "metadata": {},
   "source": [
    "## Normal Data Distribution\n",
    "Previously we learned how to create a completely random **array**, of a given **size**, and between **two** given values\n",
    "\n",
    "Now we'll learn how to create an **array** where the values are concentrated around a given value\n",
    "\n",
    ">In probability theory this kind of data distribution is known as the **normal data distribution**, or the Gaussian data distribution, after the mathematician Carl Friedrich Gauss who came up with the formula of this data distribution"
   ]
  },
  {
   "cell_type": "code",
   "execution_count": 14,
   "metadata": {},
   "outputs": [
    {
     "data": {
      "image/png": "[encoded data removed]",
      "text/plain": [
       "<Figure size 432x288 with 1 Axes>"
      ]
     },
     "metadata": {
      "needs_background": "light"
     },
     "output_type": "display_data"
    }
   ],
   "source": [
    "# A typical normal data distributioon\n",
    "x = np.random.normal(5.0,1.0,100000)\n",
    "\n",
    "plt.hist(x, 100)\n",
    "plt.show()"
   ]
  },
  {
   "cell_type": "markdown",
   "metadata": {},
   "source": [
    ">Note: A normal distribution is also known as the bell curve because of it's characteristic shape of a bell\n",
    "\n",
    "### Histogram Explained\n",
    "We use the array from the numpy.random.normal() method, with 100000 values,  to draw a histogram with 100 bars/bins\n",
    "\n",
    "We specify that the mean value is 5.0, and the standard deviation is 1.0\n",
    "\n",
    "Meaning that the values should be concentrated around 5.0, and rarely further away than 1.0 from the mean value\n",
    "\n",
    "And as you can see from the histogram, most values are between 4.0 and 6.0, with a top at approximately 5.0"
   ]
  },
  {
   "cell_type": "markdown",
   "metadata": {},
   "source": [
    "## Scatter Plot\n",
    "A scatter plot is a diagram where each value in the dataset is represented by a dot."
   ]
  },
  {
   "cell_type": "code",
   "execution_count": 15,
   "metadata": {},
   "outputs": [
    {
     "data": {
      "image/png": "[encoded data removed]",
      "text/plain": [
       "<Figure size 432x288 with 1 Axes>"
      ]
     },
     "metadata": {
      "needs_background": "light"
     },
     "output_type": "display_data"
    }
   ],
   "source": [
    "# Use the scatter() method to plot the data\n",
    "\n",
    "x = [5,7,8,7,2,17,2,9,4,11,12,9,6] # x-coordinates of points\n",
    "y = [99,86,87,88,111,86,103,87,94,78,77,85,86] # y-coordinates of points\n",
    "\n",
    "plt.scatter(x,y) # scatter plot of points\n",
    "plt.xlabel('Vehicle Age') # label of x-axis\n",
    "plt.ylabel('Speed') # label of y-axis\n",
    "plt.show() # display the scatter plot of points"
   ]
  },
  {
   "cell_type": "markdown",
   "metadata": {},
   "source": [
    "### Scatter Plot Explained\n",
    "The x-axis represents vehicle age, and the y-axis represents speeds\n",
    "\n",
    "What we can read from the diagram is that the two fastest cars were both 2 years old, and the slowest car was 12 years old"
   ]
  },
  {
   "cell_type": "markdown",
   "metadata": {},
   "source": [
    "## Random Data Distributions\n",
    ">In Machine Learning the datasets can contain thousands, OR even millions, of values\n",
    "\n",
    "You might not have real world data when you are testing an algorithm, you might have to use randomly generated values\n",
    "\n",
    ">As we have learned, the NumPy module can help us with that!\n",
    "\n",
    "Let us create two arrays that are both filled with 1000 random numbers from a normal data distribution\n",
    "\n",
    "The first array will have the mean set to 5.0 with a standard deviation of 1.0\n",
    "\n",
    "The second array will have the mean set to 10.0 with a standard deviation of 2.0"
   ]
  },
  {
   "cell_type": "code",
   "execution_count": 16,
   "metadata": {},
   "outputs": [
    {
     "data": {
      "image/png": "[encoded data removed]",
      "text/plain": [
       "<Figure size 432x288 with 1 Axes>"
      ]
     },
     "metadata": {
      "needs_background": "light"
     },
     "output_type": "display_data"
    }
   ],
   "source": [
    "# Scatter plot with 1000 points/dots\n",
    "x = np.random.normal(5.0,1.0,1000) # x-coordinates of points\n",
    "y = np.random.normal(10.0,2.0,1000) # y-coordinates of points\n",
    "\n",
    "plt.scatter(x,y) # scatter plot of points\n",
    "plt.xlabel('x-axis') # label of x-axis\n",
    "plt.ylabel('y-axis') # label of y-axis\n",
    "plt.show() # display the scatter plot of points"
   ]
  },
  {
   "cell_type": "markdown",
   "metadata": {},
   "source": [
    "## Scatter Plot Explained\n",
    "We can see that the dots are concentrated around the value 5 on the x-axis, and 10 on the y-axis\n",
    "\n",
    "We can also see that the spread is wider on the y-axis than on the x-axis"
   ]
  },
  {
   "cell_type": "markdown",
   "metadata": {},
   "source": [
    "## Regression\n",
    ">The term regression is used when you try to find the relationship between variables.\n",
    "\n",
    "In Machine Learning, and in statistical modeling, that relationship is used to predict the outcome of future events.\n",
    "\n",
    "### Linear Regression\n",
    "Linear regression uses the relationship between the data-points to draw a straight line through all them.\n",
    "\n",
    "This line can be used to predict future values."
   ]
  },
  {
   "cell_type": "markdown",
   "metadata": {},
   "source": [
    "## In Machine Learning, predicting the future is very important"
   ]
  },
  {
   "cell_type": "code",
   "execution_count": 17,
   "metadata": {},
   "outputs": [
    {
     "data": {
      "image/png": "[encoded data removed]",
      "text/plain": [
       "<Figure size 432x288 with 1 Axes>"
      ]
     },
     "metadata": {
      "needs_background": "light"
     },
     "output_type": "display_data"
    }
   ],
   "source": [
    "# Draw a scatter plot\n",
    "\n",
    "x = [5,7,8,7,2,17,2,9,4,11,12,9,6] # x-coordinates of points\n",
    "y = [99,86,87,88,111,86,103,87,94,78,77,85,86] # y-coordinates of points\n",
    "\n",
    "plt.scatter(x,y) # scatter plot of points\n",
    "plt.xlabel('Vehicle Age') # label of x-axis\n",
    "plt.ylabel('Speed') # label of y-axis\n",
    "plt.show() # display the scatter plot of points"
   ]
  },
  {
   "cell_type": "code",
   "execution_count": 18,
   "metadata": {},
   "outputs": [
    {
     "data": {
      "image/png": "[encoded data removed]",
      "text/plain": [
       "<Figure size 432x288 with 1 Axes>"
      ]
     },
     "metadata": {
      "needs_background": "light"
     },
     "output_type": "display_data"
    }
   ],
   "source": [
    "# Draw the line of linear regression\n",
    "\n",
    "from scipy import stats # scipy.stats is a sub-package of scipy\n",
    "\n",
    "# Create the arrays that represent the values of the x and y axis:\n",
    "x = [5,7,8,7,2,17,2,9,4,11,12,9,6] # x-coordinates of points\n",
    "y = [99,86,87,88,111,86,103,87,94,78,77,85,86] # y-coordinates of points\n",
    "\n",
    "# Execute a method that returns some important key values of Linear Regression:\n",
    "slope, intercept, r_value, p_value, std_err = stats.linregress(x,y) # slope, intercept, r_value, p_value, std_err\n",
    "\n",
    "# Create a function that uses the slope and intercept values to return a new value. \n",
    "# This new value represents where on the y-axis the corresponding x value will be placed\n",
    "def myfunc(x): # function that returns a new value\n",
    "    return slope*x + intercept # return a new value\n",
    "\n",
    "# Run each value of the x array through the function. \n",
    "# This will result in a new array with new values for the y-axis:\n",
    "mymodel = list(map(myfunc, x)) # map the function to each value of the x array\n",
    "\n",
    "\n",
    "# Draw the original scatter plot:\n",
    "plt.scatter(x,y) # scatter plot of points\n",
    "\n",
    "# Draw the line of regression:\n",
    "plt.plot(x, mymodel) # plot the line of regression\n",
    "\n",
    "# Label the axes:\n",
    "plt.xlabel('Vehicle Age') # label of x-axis\n",
    "plt.ylabel('Speed') # label of y-axis\n",
    "\n",
    "# Display the plot:\n",
    "plt.show()"
   ]
  },
  {
   "cell_type": "markdown",
   "metadata": {},
   "source": [
    "## R for Relationship\n",
    "It is important to know how the relationship between the values of the x-axis and the values of the y-axis is, if there are no relationship the linear regression cannot be used to predict anything.\n",
    "\n",
    "This relationship - the **coefficient of correlation** - is called r.\n",
    "\n",
    "The r value ranges from -1 to 1, where 0 means no relationship, and 1 (and -1) means 100% related.\n",
    "\n",
    "Python and the Scipy module will compute this value for you, all you have to do is feed it with the x and y values."
   ]
  },
  {
   "cell_type": "code",
   "execution_count": 19,
   "metadata": {},
   "outputs": [
    {
     "name": "stdout",
     "output_type": "stream",
     "text": [
      "-0.758591524376155\n"
     ]
    }
   ],
   "source": [
    "# How well does my data fit the line of regression?\n",
    "\n",
    "x = [5,7,8,7,2,17,2,9,4,11,12,9,6] # x-coordinates of points\n",
    "y = [99,86,87,88,111,86,103,87,94,78,77,85,86] # y-coordinates of points\n",
    "\n",
    "slope, intercept, r_value, p_value, std_err = stats.linregress(x,y) # slope, intercept, r_value, p_value, std_err\n",
    "\n",
    "print(r_value) # Display the r_value"
   ]
  },
  {
   "cell_type": "markdown",
   "metadata": {},
   "source": [
    "Note: The result -0.76 shows that there is a relationship, not perfect, but it indicates that we could use linear regression in future predictions."
   ]
  },
  {
   "cell_type": "markdown",
   "metadata": {},
   "source": [
    "## Predict Future Values\n",
    "Now we can use the information we have gathered to predict future values.\n",
    "\n",
    "Example: Let us try to predict the speed of a 10 years old car.\n",
    "\n",
    "To do so, we need the same myfunc() function from the example above:"
   ]
  },
  {
   "cell_type": "code",
   "execution_count": 20,
   "metadata": {},
   "outputs": [
    {
     "name": "stdout",
     "output_type": "stream",
     "text": [
      "85.59308314937454\n"
     ]
    }
   ],
   "source": [
    "# Predict the speed of a vehicle based on a 10 year old vehicle\n",
    "\n",
    "x = [5,7,8,7,2,17,2,9,4,11,12,9,6] # x-coordinates of points\n",
    "y = [99,86,87,88,111,86,103,87,94,78,77,85,86] # y-coordinates of points\n",
    "\n",
    "slope, intercept, r_value, p_value, std_err = stats.linregress(x,y) # slope, intercept, r_value, p_value, std_err\n",
    "\n",
    "def myfunc(x): # function that returns a new value\n",
    "    return slope*x + intercept # return a new value\n",
    "\n",
    "speed = myfunc(10) # predict the speed of a vehicle based on a 10 year old vehicle\n",
    "\n",
    "print(speed) # Display the predicted speed"
   ]
  },
  {
   "cell_type": "markdown",
   "metadata": {},
   "source": [
    "The predicted speed of a 10 years old car is: 85.6"
   ]
  },
  {
   "cell_type": "markdown",
   "metadata": {},
   "source": [
    "## Bad Fit?\n",
    "Let us create an example where linear regression would not be the best method to predict future values."
   ]
  },
  {
   "cell_type": "code",
   "execution_count": 21,
   "metadata": {},
   "outputs": [
    {
     "data": {
      "image/png": "[encoded data removed]",
      "text/plain": [
       "<Figure size 432x288 with 1 Axes>"
      ]
     },
     "metadata": {
      "needs_background": "light"
     },
     "output_type": "display_data"
    }
   ],
   "source": [
    "# These values for the x- and y-axis should result in a very bad fit for linear regression:\n",
    "\n",
    "x = [89,43,36,36,95,10,66,34,38,20,26,29,48,64,6,5,36,66,72,40] # x-coordinates of points\n",
    "y = [21,46,3,35,67,95,53,72,58,10,26,34,90,33,38,20,56,2,47,15] # y-coordinates of points\n",
    "\n",
    "slope, intercept, r_value, p_value, std_err = stats.linregress(x,y) # slope, intercept, r_value, p_value, std_err\n",
    "\n",
    "def myfunc(x): # function that returns a new value\n",
    "    return slope*x + intercept # return a new value\n",
    "\n",
    "mymodel = list(map(myfunc, x)) # map the function to each value of the x array\n",
    "\n",
    "plt.scatter(x,y) # scatter plot of points\n",
    "plt.plot(x, mymodel) # plot the line of regression\n",
    "plt.show() # display the scatter plot of points"
   ]
  },
  {
   "cell_type": "code",
   "execution_count": 22,
   "metadata": {},
   "outputs": [
    {
     "name": "stdout",
     "output_type": "stream",
     "text": [
      "0.013318141542974915\n"
     ]
    }
   ],
   "source": [
    "# Show the coefficient of correlation between the x and y axis\n",
    "\n",
    "x = [89,43,36,36,95,10,66,34,38,20,26,29,48,64,6,5,36,66,72,40] # x-coordinates of points\n",
    "y = [21,46,3,35,67,95,53,72,58,10,26,34,90,33,38,20,56,2,47,15] # y-coordinates of points\n",
    "\n",
    "slope, intercept, r_value, p_value, std_err = stats.linregress(x,y) # slope, intercept, r_value, p_value, std_err\n",
    "\n",
    "print(r_value) # Display the r_value"
   ]
  },
  {
   "cell_type": "markdown",
   "metadata": {},
   "source": [
    "The result: 0.013 indicates a very bad relationship, and tells us that this dataset is not suitable for linear regression."
   ]
  },
  {
   "cell_type": "markdown",
   "metadata": {},
   "source": [
    "## Polynomial Regression\n",
    ">If your data points clearly will not fit a linear regression (a straight line through all data points), it might be ideal for polynomial regression.\n",
    "\n",
    "Polynomial regression, like linear regression, uses the relationship between the variables x and y to find the best way to draw a line through the data points.\n",
    "\n",
    "### How Does it Work?\n",
    "Python has methods for finding a relationship between data-points and to draw a line of polynomial regression. We will show you how to use these methods instead of going through the mathematic formula.\n",
    "\n",
    "In the example below, we have registered 18 cars as they were passing a certain tollbooth.\n",
    "\n",
    "We have registered the car's speed, and the time of day (hour) the passing occurred.\n",
    "\n",
    "The x-axis represents the hours of the day and the y-axis represents the speed:"
   ]
  },
  {
   "cell_type": "code",
   "execution_count": 23,
   "metadata": {},
   "outputs": [
    {
     "data": {
      "image/png": "[encoded data removed]",
      "text/plain": [
       "<Figure size 432x288 with 1 Axes>"
      ]
     },
     "metadata": {
      "needs_background": "light"
     },
     "output_type": "display_data"
    }
   ],
   "source": [
    "# Draw a scatter plot of the data\n",
    "\n",
    "x = [1,2,3,5,6,7,8,9,10,12,13,14,15,16,18,19,21,22] # x-coordinates of points\n",
    "y = [100,90,80,60,60,55,60,65,70,70,75,76,78,79,90,99,99,100] # y-coordinates of points\n",
    "\n",
    "plt.scatter(x,y) # scatter plot of points\n",
    "plt.show() # display the scatter plot of points"
   ]
  },
  {
   "cell_type": "code",
   "execution_count": 24,
   "metadata": {},
   "outputs": [
    {
     "data": {
      "image/png": "[encoded data removed]",
      "text/plain": [
       "<Figure size 432x288 with 1 Axes>"
      ]
     },
     "metadata": {
      "needs_background": "light"
     },
     "output_type": "display_data"
    }
   ],
   "source": [
    "# Draw the line of polynomial regression\n",
    "\n",
    "# Create the arrays that represent the values of the x and y axis:\n",
    "x = [1,2,3,5,6,7,8,9,10,12,13,14,15,16,18,19,21,22] # x-coordinates of points\n",
    "y = [100,90,80,60,60,55,60,65,70,70,75,76,78,79,90,99,99,100] # y-coordinates of points\n",
    "\n",
    "# Execute a method that returns some important key values of Polynomial Regression:\n",
    "mymodel = np.poly1d(np.polyfit(x,y,3)) # polynomial regression\n",
    "\n",
    "# Specify how the line will display, start at position 1, end at position 22\n",
    "myline = np.linspace(1,22,100) # create a line of 100 points\n",
    "\n",
    "plt.scatter(x,y) # scatter plot of points\n",
    "plt.plot(myline, mymodel(myline)) # plot the line of regression\n",
    "plt.xlabel('Time in Hrs') # label of x-axis\n",
    "plt.ylabel('Speed') # label of y-axis\n",
    "plt.show() # display the scatter plot of points"
   ]
  },
  {
   "cell_type": "markdown",
   "metadata": {},
   "source": [
    "## R-Squared\n",
    "It is important to know how well the relationship between the values of the x- and y-axis is, if there are no relationship the polynomial regression cannot be used to predict anything.\n",
    "\n",
    "The relationship is measured with a value called the r-squared.\n",
    "\n",
    "The r-squared value ranges from 0 to 1, where 0 means no relationship, and 1 means 100% related.\n",
    "\n",
    "Python and the Sklearn module will compute this value for you, all you have to do is feed it with the x and y arrays:"
   ]
  },
  {
   "cell_type": "code",
   "execution_count": 25,
   "metadata": {},
   "outputs": [
    {
     "name": "stdout",
     "output_type": "stream",
     "text": [
      "0.9432150416451026\n"
     ]
    }
   ],
   "source": [
    "# How well does my data fit in a polynomial regression?\n",
    "\n",
    "from sklearn.metrics import r2_score # import the r2_score method\n",
    "\n",
    "x = [1,2,3,5,6,7,8,9,10,12,13,14,15,16,18,19,21,22] # x-coordinates of points\n",
    "y = [100,90,80,60,60,55,60,65,70,70,75,76,78,79,90,99,99,100] # y-coordinates of points\n",
    "\n",
    "mymodel = np.poly1d(np.polyfit(x,y,3))  # Create the polynomial model\n",
    "\n",
    "print(r2_score(y, mymodel(x))) # Display the r2_score"
   ]
  },
  {
   "cell_type": "markdown",
   "metadata": {},
   "source": [
    "Note: The result 0.94 shows that there is a very good relationship, and we can use polynomial regression in future predictions."
   ]
  },
  {
   "cell_type": "markdown",
   "metadata": {},
   "source": [
    "## Predict Future Values\n",
    "Now we can use the information we have gathered to predict future values.\n",
    "\n",
    "Example: Let us try to predict the speed of a car that passes the tollbooth at around 17 P.M:\n",
    "\n",
    "To do so, we need the same mymodel array from the example above:"
   ]
  },
  {
   "cell_type": "code",
   "execution_count": 26,
   "metadata": {},
   "outputs": [
    {
     "name": "stdout",
     "output_type": "stream",
     "text": [
      "88.8733126969799\n"
     ]
    }
   ],
   "source": [
    "# Predict the speeed of a vehicle passing at 17 P.M\n",
    "\n",
    "x = [1,2,3,5,6,7,8,9,10,12,13,14,15,16,18,19,21,22] # x-coordinates of points\n",
    "y = [100,90,80,60,60,55,60,65,70,70,75,76,78,79,90,99,99,100] # y-coordinates of points\n",
    "\n",
    "mymodel = np.poly1d(np.polyfit(x,y,3))  # Create the polynomial model\n",
    "\n",
    "speed = mymodel(17) # predict the speed of a vehicle passing at 17 P.M\n",
    "print(speed) # Display the predicted speed"
   ]
  },
  {
   "cell_type": "markdown",
   "metadata": {},
   "source": [
    "Predicted speed of a car that passes the tollbooth at around 17 P.M: 88.87"
   ]
  },
  {
   "cell_type": "markdown",
   "metadata": {},
   "source": [
    "## Bad Fit?\n",
    "Let us create an example where polynomial regression would not be the best method to predict future values."
   ]
  },
  {
   "cell_type": "code",
   "execution_count": 27,
   "metadata": {},
   "outputs": [
    {
     "data": {
      "image/png": "[encoded data removed]",
      "text/plain": [
       "<Figure size 432x288 with 1 Axes>"
      ]
     },
     "metadata": {
      "needs_background": "light"
     },
     "output_type": "display_data"
    }
   ],
   "source": [
    "# These values for the x- and y-axis should result in a very bad fit for polynomial regression:\n",
    "\n",
    "x = [89,43,36,36,95,10,66,34,38,20,26,29,48,64,6,5,36,66,72,40] # x-coordinates of points\n",
    "y = [21,46,3,35,67,95,53,72,58,10,26,34,90,33,38,20,56,2,47,15] # y-coordinates of points\n",
    "\n",
    "mymodel = np.poly1d(np.polyfit(x,y,3))  # Create the polynomial model\n",
    "\n",
    "myline = np.linspace(2,95,100) # create a line of 100 points\n",
    "\n",
    "plt.scatter(x,y) # scatter plot of points\n",
    "plt.plot(myline, mymodel(myline)) # plot the line of regression\n",
    "plt.show() # display the scatter plot of points"
   ]
  },
  {
   "cell_type": "code",
   "execution_count": 28,
   "metadata": {},
   "outputs": [
    {
     "name": "stdout",
     "output_type": "stream",
     "text": [
      "0.009952707566680541\n"
     ]
    }
   ],
   "source": [
    "# Show the r-squared value\n",
    "\n",
    "x = [89,43,36,36,95,10,66,34,38,20,26,29,48,64,6,5,36,66,72,40] # x-coordinates of points\n",
    "y = [21,46,3,35,67,95,53,72,58,10,26,34,90,33,38,20,56,2,47,15] # y-coordinates of points\n",
    "\n",
    "mymodel = np.poly1d(np.polyfit(x,y,3))  # Create the polynomial model\n",
    "\n",
    "print(r2_score(y, mymodel(x))) # Display the r2_score"
   ]
  },
  {
   "cell_type": "markdown",
   "metadata": {},
   "source": [
    "The result: 0.00995 indicates a very bad relationship, and tells us that this dataset is not suitable for polynomial regression."
   ]
  },
  {
   "cell_type": "markdown",
   "metadata": {},
   "source": [
    "## Multiple Regression\n",
    "Multiple regression is a method that uses multiple variables to predict the outcome of a single variable."
   ]
  },
  {
   "cell_type": "code",
   "execution_count": 29,
   "metadata": {},
   "outputs": [
    {
     "data": {
      "text/html": [
       "<div>\n",
       "<style scoped>\n",
       "    .dataframe tbody tr th:only-of-type {\n",
       "        vertical-align: middle;\n",
       "    }\n",
       "\n",
       "    .dataframe tbody tr th {\n",
       "        vertical-align: top;\n",
       "    }\n",
       "\n",
       "    .dataframe thead th {\n",
       "        text-align: right;\n",
       "    }\n",
       "</style>\n",
       "<table border=\"1\" class=\"dataframe\">\n",
       "  <thead>\n",
       "    <tr style=\"text-align: right;\">\n",
       "      <th></th>\n",
       "      <th>Car</th>\n",
       "      <th>Model</th>\n",
       "      <th>Volume</th>\n",
       "      <th>Weight</th>\n",
       "      <th>CO2</th>\n",
       "    </tr>\n",
       "  </thead>\n",
       "  <tbody>\n",
       "    <tr>\n",
       "      <th>0</th>\n",
       "      <td>Toyoty</td>\n",
       "      <td>Aygo</td>\n",
       "      <td>1000</td>\n",
       "      <td>790</td>\n",
       "      <td>99</td>\n",
       "    </tr>\n",
       "    <tr>\n",
       "      <th>1</th>\n",
       "      <td>Mitsubishi</td>\n",
       "      <td>Space Star</td>\n",
       "      <td>1200</td>\n",
       "      <td>1160</td>\n",
       "      <td>95</td>\n",
       "    </tr>\n",
       "    <tr>\n",
       "      <th>2</th>\n",
       "      <td>Skoda</td>\n",
       "      <td>Citigo</td>\n",
       "      <td>1000</td>\n",
       "      <td>929</td>\n",
       "      <td>95</td>\n",
       "    </tr>\n",
       "    <tr>\n",
       "      <th>3</th>\n",
       "      <td>Fiat</td>\n",
       "      <td>500</td>\n",
       "      <td>900</td>\n",
       "      <td>865</td>\n",
       "      <td>90</td>\n",
       "    </tr>\n",
       "    <tr>\n",
       "      <th>4</th>\n",
       "      <td>Mini</td>\n",
       "      <td>Cooper</td>\n",
       "      <td>1500</td>\n",
       "      <td>1140</td>\n",
       "      <td>105</td>\n",
       "    </tr>\n",
       "  </tbody>\n",
       "</table>\n",
       "</div>"
      ],
      "text/plain": [
       "          Car       Model  Volume  Weight  CO2\n",
       "0      Toyoty        Aygo    1000     790   99\n",
       "1  Mitsubishi  Space Star    1200    1160   95\n",
       "2       Skoda      Citigo    1000     929   95\n",
       "3        Fiat         500     900     865   90\n",
       "4        Mini      Cooper    1500    1140  105"
      ]
     },
     "execution_count": 29,
     "metadata": {},
     "output_type": "execute_result"
    }
   ],
   "source": [
    "import pandas as pd # import the pandas library\n",
    "\n",
    "df = pd.read_csv('Data/cars.csv') # read the cars.csv file\n",
    "df.head() # display the first 5 rows of the dataframe"
   ]
  },
  {
   "cell_type": "code",
   "execution_count": 30,
   "metadata": {},
   "outputs": [
    {
     "data": {
      "text/plain": [
       "(36, 5)"
      ]
     },
     "execution_count": 30,
     "metadata": {},
     "output_type": "execute_result"
    }
   ],
   "source": [
    "df.shape # display the shape of the dataframe"
   ]
  },
  {
   "cell_type": "markdown",
   "metadata": {},
   "source": [
    "- 36 represents the number of records/rows in the dataset\n",
    "- 5 represents the number of variables/columns/attributes in the dataset"
   ]
  },
  {
   "cell_type": "markdown",
   "metadata": {},
   "source": [
    "Tip: Its common to name the list of independent variables as X, and the list of dependent variables as y."
   ]
  },
  {
   "cell_type": "code",
   "execution_count": 31,
   "metadata": {},
   "outputs": [],
   "source": [
    "X = df[['Weight','Volume']] # Features\n",
    "y = df['CO2'] # Target"
   ]
  },
  {
   "cell_type": "code",
   "execution_count": 32,
   "metadata": {},
   "outputs": [],
   "source": [
    "from sklearn import linear_model # import the linear_model library"
   ]
  },
  {
   "cell_type": "markdown",
   "metadata": {},
   "source": [
    "From the sklearn module we will use the LinearRegression() method to create a linear regression object\n",
    "\n",
    "This object has a method called fit() that takes two arguments:\n",
    "\n",
    "    - X: The independent variables\n",
    "    - y: The dependent variables\n",
    "\n",
    "The fit() method will train the model on the data, and return the object itself."
   ]
  },
  {
   "cell_type": "code",
   "execution_count": 33,
   "metadata": {},
   "outputs": [
    {
     "data": {
      "text/plain": [
       "LinearRegression()"
      ]
     },
     "execution_count": 33,
     "metadata": {},
     "output_type": "execute_result"
    }
   ],
   "source": [
    "regr = linear_model.LinearRegression() # create a linear regression object\n",
    "regr.fit(X, y) # fit the linear regression object to the data"
   ]
  },
  {
   "cell_type": "markdown",
   "metadata": {},
   "source": [
    "Now we have a regression object that we can use to predict CO2 emission based on a car's weight and volume."
   ]
  },
  {
   "cell_type": "code",
   "execution_count": 34,
   "metadata": {},
   "outputs": [
    {
     "name": "stdout",
     "output_type": "stream",
     "text": [
      "[107.2087328]\n"
     ]
    }
   ],
   "source": [
    "# Predict the CO2 emission of a car with a weight of 2300kg and a volume of 1300cm3\n",
    "\n",
    "predictedCO2 = regr.predict([[2300,1300]]) # predict the CO2 emission of a car with a weight of 2300kg and a volume of 1300cm3\n",
    "\n",
    "print(predictedCO2) # Display the predicted CO2 emission"
   ]
  },
  {
   "cell_type": "markdown",
   "metadata": {},
   "source": [
    "We have predicted that a vehicle with 1.3L engine and a weight of 2300kg will emit about 107g of CO2 for every km it drives."
   ]
  },
  {
   "cell_type": "markdown",
   "metadata": {},
   "source": [
    "## Coefficient\n",
    "The coefficient is a factor that describes the relationship with an unknown variable.\n",
    "\n",
    "Example: if x is a variable, then 2x is x two times. x is the unknown variable, and the number 2 is the coefficient.\n",
    "\n",
    "In this case, we can ask for the coefficient value of weight against CO2, and for volume against CO2. The answer(s) we get tells us what would happen if we increase, or decrease, one of the independent values."
   ]
  },
  {
   "cell_type": "code",
   "execution_count": 35,
   "metadata": {},
   "outputs": [
    {
     "name": "stdout",
     "output_type": "stream",
     "text": [
      "[0.00755095 0.00780526]\n"
     ]
    }
   ],
   "source": [
    "df = pd.read_csv('Data/cars.csv') # Read the data\n",
    "\n",
    "X = df[['Weight','Volume']] # Features\n",
    "y = df['CO2'] # Target\n",
    "\n",
    "regr = linear_model.LinearRegression() # Create a linear regression object\n",
    "regr.fit(X, y) # Train the model\n",
    "\n",
    "print(regr.coef_) # Print the coefficients"
   ]
  },
  {
   "cell_type": "markdown",
   "metadata": {},
   "source": [
    "## Result Explained\n",
    "The result array represents the coefficient values of weight and volume.\n",
    "\n",
    "Weight: 0.00755095\n",
    "Volume: 0.00780526\n",
    "\n",
    "These values tell us that if the weight increase by 1kg, the CO2 emission increases by 0.00755095g.\n",
    "\n",
    "And if the engine size (Volume) increases by 1 cm3, the CO2 emission increases by 0.00780526 g.\n",
    "\n",
    "I think that is a fair guess, but let test it!\n",
    "\n",
    "We have already predicted that if a car with a 1300cm3 engine weighs 2300kg, the CO2 emission will be approximately 107g.\n",
    "\n",
    "What if we increase the weight with 1000kg?"
   ]
  },
  {
   "cell_type": "code",
   "execution_count": 36,
   "metadata": {},
   "outputs": [
    {
     "name": "stdout",
     "output_type": "stream",
     "text": [
      "[114.75968007]\n"
     ]
    }
   ],
   "source": [
    "predictedCO2 = regr.predict([[3300,1300]]) # Predict the CO2 emission of a car with a weight of 3300kg and a volume of 1300cm3\n",
    "\n",
    "print(predictedCO2) # Predict the CO2 emission of a car with a weight of 3300kg and a volume of 1300cm3"
   ]
  },
  {
   "cell_type": "markdown",
   "metadata": {},
   "source": [
    "We have predicted that a vehicle with 1.3 liter engine, and a weight of 3300 kg, will release approximately 115 grams of CO2 for every kilometer it drives.\n",
    "\n",
    "Which shows that the coefficient of 0.00755095 is correct:\n",
    "\n",
    "107.2087328 + (1000 * 0.00755095) = 114.75968"
   ]
  },
  {
   "cell_type": "markdown",
   "metadata": {},
   "source": [
    "## Scale Features (FOR COMPARISON)\n",
    ">When your data has different **VALUES**, and even different **MEASUREMENT UNITS**, it can be difficult to compare them. What is kilograms compared to meters? Or altitude compared to time?\n",
    "\n",
    "***The answer to this problem is scaling. We can scale data into new values that are easier to compare***\n",
    "\n",
    "Take a look at the table below, it is the same dataset that we used in the multiple regression chapter, but this time the volume column contains values in liters instead of cm3 (1.0 instead of 1000)."
   ]
  },
  {
   "cell_type": "code",
   "execution_count": 37,
   "metadata": {},
   "outputs": [
    {
     "data": {
      "text/html": [
       "<div>\n",
       "<style scoped>\n",
       "    .dataframe tbody tr th:only-of-type {\n",
       "        vertical-align: middle;\n",
       "    }\n",
       "\n",
       "    .dataframe tbody tr th {\n",
       "        vertical-align: top;\n",
       "    }\n",
       "\n",
       "    .dataframe thead th {\n",
       "        text-align: right;\n",
       "    }\n",
       "</style>\n",
       "<table border=\"1\" class=\"dataframe\">\n",
       "  <thead>\n",
       "    <tr style=\"text-align: right;\">\n",
       "      <th></th>\n",
       "      <th>Car</th>\n",
       "      <th>Model</th>\n",
       "      <th>Volume</th>\n",
       "      <th>Weight</th>\n",
       "      <th>CO2</th>\n",
       "    </tr>\n",
       "  </thead>\n",
       "  <tbody>\n",
       "    <tr>\n",
       "      <th>0</th>\n",
       "      <td>Toyoty</td>\n",
       "      <td>Aygo</td>\n",
       "      <td>1.0</td>\n",
       "      <td>790</td>\n",
       "      <td>99</td>\n",
       "    </tr>\n",
       "    <tr>\n",
       "      <th>1</th>\n",
       "      <td>Mitsubishi</td>\n",
       "      <td>Space Star</td>\n",
       "      <td>1.2</td>\n",
       "      <td>1160</td>\n",
       "      <td>95</td>\n",
       "    </tr>\n",
       "    <tr>\n",
       "      <th>2</th>\n",
       "      <td>Skoda</td>\n",
       "      <td>Citigo</td>\n",
       "      <td>1.0</td>\n",
       "      <td>929</td>\n",
       "      <td>95</td>\n",
       "    </tr>\n",
       "    <tr>\n",
       "      <th>3</th>\n",
       "      <td>Fiat</td>\n",
       "      <td>500</td>\n",
       "      <td>0.9</td>\n",
       "      <td>865</td>\n",
       "      <td>90</td>\n",
       "    </tr>\n",
       "    <tr>\n",
       "      <th>4</th>\n",
       "      <td>Mini</td>\n",
       "      <td>Cooper</td>\n",
       "      <td>1.5</td>\n",
       "      <td>1140</td>\n",
       "      <td>105</td>\n",
       "    </tr>\n",
       "  </tbody>\n",
       "</table>\n",
       "</div>"
      ],
      "text/plain": [
       "          Car       Model  Volume  Weight  CO2\n",
       "0      Toyoty        Aygo     1.0     790   99\n",
       "1  Mitsubishi  Space Star     1.2    1160   95\n",
       "2       Skoda      Citigo     1.0     929   95\n",
       "3        Fiat         500     0.9     865   90\n",
       "4        Mini      Cooper     1.5    1140  105"
      ]
     },
     "execution_count": 37,
     "metadata": {},
     "output_type": "execute_result"
    }
   ],
   "source": [
    "df2 = pd.read_csv('Data/cars2.csv') # Read in the data\n",
    "df2.head() # Display the first 5 rows of the data"
   ]
  },
  {
   "cell_type": "code",
   "execution_count": 38,
   "metadata": {},
   "outputs": [
    {
     "data": {
      "text/html": [
       "<div>\n",
       "<style scoped>\n",
       "    .dataframe tbody tr th:only-of-type {\n",
       "        vertical-align: middle;\n",
       "    }\n",
       "\n",
       "    .dataframe tbody tr th {\n",
       "        vertical-align: top;\n",
       "    }\n",
       "\n",
       "    .dataframe thead th {\n",
       "        text-align: right;\n",
       "    }\n",
       "</style>\n",
       "<table border=\"1\" class=\"dataframe\">\n",
       "  <thead>\n",
       "    <tr style=\"text-align: right;\">\n",
       "      <th></th>\n",
       "      <th>Car</th>\n",
       "      <th>Model</th>\n",
       "      <th>Volume</th>\n",
       "      <th>Weight</th>\n",
       "      <th>CO2</th>\n",
       "    </tr>\n",
       "  </thead>\n",
       "  <tbody>\n",
       "    <tr>\n",
       "      <th>0</th>\n",
       "      <td>Toyoty</td>\n",
       "      <td>Aygo</td>\n",
       "      <td>1000</td>\n",
       "      <td>790</td>\n",
       "      <td>99</td>\n",
       "    </tr>\n",
       "    <tr>\n",
       "      <th>1</th>\n",
       "      <td>Mitsubishi</td>\n",
       "      <td>Space Star</td>\n",
       "      <td>1200</td>\n",
       "      <td>1160</td>\n",
       "      <td>95</td>\n",
       "    </tr>\n",
       "    <tr>\n",
       "      <th>2</th>\n",
       "      <td>Skoda</td>\n",
       "      <td>Citigo</td>\n",
       "      <td>1000</td>\n",
       "      <td>929</td>\n",
       "      <td>95</td>\n",
       "    </tr>\n",
       "    <tr>\n",
       "      <th>3</th>\n",
       "      <td>Fiat</td>\n",
       "      <td>500</td>\n",
       "      <td>900</td>\n",
       "      <td>865</td>\n",
       "      <td>90</td>\n",
       "    </tr>\n",
       "    <tr>\n",
       "      <th>4</th>\n",
       "      <td>Mini</td>\n",
       "      <td>Cooper</td>\n",
       "      <td>1500</td>\n",
       "      <td>1140</td>\n",
       "      <td>105</td>\n",
       "    </tr>\n",
       "  </tbody>\n",
       "</table>\n",
       "</div>"
      ],
      "text/plain": [
       "          Car       Model  Volume  Weight  CO2\n",
       "0      Toyoty        Aygo    1000     790   99\n",
       "1  Mitsubishi  Space Star    1200    1160   95\n",
       "2       Skoda      Citigo    1000     929   95\n",
       "3        Fiat         500     900     865   90\n",
       "4        Mini      Cooper    1500    1140  105"
      ]
     },
     "execution_count": 38,
     "metadata": {},
     "output_type": "execute_result"
    }
   ],
   "source": [
    "# Compare dataset cars2.csv with cars.csv\n",
    "df = pd.read_csv('Data/cars.csv') # Load the cars.csv file\n",
    "df.head() # Display the first 5 rows of the dataframe"
   ]
  },
  {
   "cell_type": "markdown",
   "metadata": {},
   "source": [
    "It can be difficult to compare the volume 1.0 with the weight 790, but if we scale them both into comparable values, we can easily see how much one value is compared to the other.\n",
    "\n",
    "There are different methods for scaling data, here we used a method called standardization.\n",
    "\n",
    "Python sklearn module has a method called StandardScaler() which returns a Scaler object with methods for transforming datasets."
   ]
  },
  {
   "cell_type": "code",
   "execution_count": 39,
   "metadata": {},
   "outputs": [
    {
     "name": "stdout",
     "output_type": "stream",
     "text": [
      "[[-2.10389253 -1.59336644]\n",
      " [-0.55407235 -1.07190106]\n",
      " [-1.52166278 -1.59336644]\n",
      " [-1.78973979 -1.85409913]\n",
      " [-0.63784641 -0.28970299]\n",
      " [-1.52166278 -1.59336644]\n",
      " [-0.76769621 -0.55043568]\n",
      " [ 0.3046118  -0.28970299]\n",
      " [-0.7551301  -0.28970299]\n",
      " [-0.59595938 -0.0289703 ]\n",
      " [-1.30803892 -1.33263375]\n",
      " [-1.26615189 -0.81116837]\n",
      " [-0.7551301  -1.59336644]\n",
      " [-0.16871166 -0.0289703 ]\n",
      " [ 0.14125238 -0.0289703 ]\n",
      " [ 0.15800719 -0.0289703 ]\n",
      " [ 0.3046118  -0.0289703 ]\n",
      " [-0.05142797  1.53542584]\n",
      " [-0.72580918 -0.0289703 ]\n",
      " [ 0.14962979  1.01396046]\n",
      " [ 1.2219378  -0.0289703 ]\n",
      " [ 0.5685001   1.01396046]\n",
      " [ 0.3046118   1.27469315]\n",
      " [ 0.51404696 -0.0289703 ]\n",
      " [ 0.51404696  1.01396046]\n",
      " [ 0.72348212 -0.28970299]\n",
      " [ 0.8281997   1.01396046]\n",
      " [ 1.81254495  1.01396046]\n",
      " [ 0.96642691 -0.0289703 ]\n",
      " [ 1.72877089  1.01396046]\n",
      " [ 1.30990057  1.27469315]\n",
      " [ 1.90050772  1.01396046]\n",
      " [-0.23991961 -0.0289703 ]\n",
      " [ 0.40932938 -0.0289703 ]\n",
      " [ 0.47215993 -0.0289703 ]\n",
      " [ 0.4302729   2.31762392]]\n"
     ]
    }
   ],
   "source": [
    "# Scale the feature values \"Volumn\" and \"Weight\"\n",
    "\n",
    "from sklearn.preprocessing import StandardScaler # Import the StandardScaler\n",
    "scale = StandardScaler() # Create an instance of the StandardScaler\n",
    "\n",
    "df2 = pd.read_csv('Data/cars2.csv') # Read the cars.csv file\n",
    "\n",
    "X = df2[['Weight','Volume']] # Features\n",
    "\n",
    "scaledX = scale.fit_transform(X) # Scale the features\n",
    "\n",
    "print(scaledX) # Print the scaled features"
   ]
  },
  {
   "cell_type": "markdown",
   "metadata": {},
   "source": [
    "## Predict CO2 Values\n",
    "The task in the Multiple Regression chapter was to predict the CO2 emission from a vehicle when you only knew its weight and volume.\n",
    "\n",
    "When the dataset is scaled, you will have to use the scale when you predict values:"
   ]
  },
  {
   "cell_type": "code",
   "execution_count": 40,
   "metadata": {},
   "outputs": [
    {
     "name": "stdout",
     "output_type": "stream",
     "text": [
      "[107.2087328]\n"
     ]
    }
   ],
   "source": [
    "# Predict the CO2 emission from a 1.3L car with a weight of 2300kg\n",
    "\n",
    "regr = linear_model.LinearRegression() # Create a linear regression model\n",
    "regr.fit(scaledX, y) # Fit the model to the data\n",
    "\n",
    "scaled = scale.transform([[2300,1.3]]) # Scale the data\n",
    "\n",
    "predictedCO2 = regr.predict([scaled[0]]) # Predict the CO2 emission\n",
    "\n",
    "print(predictedCO2) # Print the predicted CO2 emission"
   ]
  },
  {
   "cell_type": "markdown",
   "metadata": {},
   "source": [
    "## Evaluate Your Model\n",
    "In Machine Learning we create models to predict the outcome of certain events, like previously where we predicted the CO2 emission of a car when we knew the weight and engine size.\n",
    "\n",
    "To measure if the model is good enough, we can use a method called Train/Test.\n",
    "\n",
    "### What is Train/Test\n",
    "Train/Test is a method to measure the accuracy of your model.\n",
    "\n",
    "It is called Train/Test because you split the the dataset into 2 sets: \n",
    "- a training set and \n",
    "- a testing set\n",
    "\n",
    ">We train the model using the training set, and then we test it using the testing set.\n"
   ]
  },
  {
   "cell_type": "code",
   "execution_count": 41,
   "metadata": {},
   "outputs": [
    {
     "data": {
      "image/png": "[encoded data removed]",
      "text/plain": [
       "<Figure size 432x288 with 1 Axes>"
      ]
     },
     "metadata": {
      "needs_background": "light"
     },
     "output_type": "display_data"
    }
   ],
   "source": [
    "# Example\n",
    "\n",
    "x = np.random.normal(3, 1, 100) # Create a random array of 100 values\n",
    "y = np.random.normal(150, 40, 100) / x # Create a random array of 100 values\n",
    "\n",
    "plt.scatter(x, y) # Plot the data\n",
    "plt.xlabel('No. of minutes before making a purchase') # Label the x-axis\n",
    "plt.ylabel('Amount spent on the purchase') # Label the y-axis\n",
    "plt.show() # Display the plot"
   ]
  },
  {
   "cell_type": "markdown",
   "metadata": {},
   "source": [
    "## Split Into Train/Test\n",
    "The training set should be a random selection of 80% of the original data.\n",
    "\n",
    "The testing set should be the remaining 20%."
   ]
  },
  {
   "cell_type": "code",
   "execution_count": 42,
   "metadata": {},
   "outputs": [],
   "source": [
    "train_x = x[:80] # Take the first 80% of the data as training data\n",
    "train_y = y[:80] # Take the first 80% of the data as training data\n",
    "\n",
    "test_x = x[80:] # Take the last 20% of the data as test data\n",
    "test_y = y[80:] # Take the last 20% of the data as test data"
   ]
  },
  {
   "cell_type": "markdown",
   "metadata": {},
   "source": [
    "## Display the Training Set\n",
    "Display the same scatter plot with the training set:"
   ]
  },
  {
   "cell_type": "code",
   "execution_count": 43,
   "metadata": {},
   "outputs": [
    {
     "data": {
      "image/png": "[encoded data removed]",
      "text/plain": [
       "<Figure size 432x288 with 1 Axes>"
      ]
     },
     "metadata": {
      "needs_background": "light"
     },
     "output_type": "display_data"
    }
   ],
   "source": [
    "# Display the scatter plot\n",
    "plt.scatter(train_x, train_y) # Plot the training data\n",
    "plt.show() # Display the plot"
   ]
  },
  {
   "cell_type": "markdown",
   "metadata": {},
   "source": [
    "## Display the Testing Set\n",
    "To make sure the testing set is not completely different, we will take a look at the testing set as well."
   ]
  },
  {
   "cell_type": "code",
   "execution_count": 44,
   "metadata": {},
   "outputs": [
    {
     "data": {
      "image/png": "[encoded data removed]",
      "text/plain": [
       "<Figure size 432x288 with 1 Axes>"
      ]
     },
     "metadata": {
      "needs_background": "light"
     },
     "output_type": "display_data"
    }
   ],
   "source": [
    "plt.scatter(test_x, test_y) # Plot the test data\n",
    "plt.show() # Display the plot"
   ]
  },
  {
   "cell_type": "markdown",
   "metadata": {},
   "source": [
    "## Fit the Dataset\n",
    "What does the dataset look like? In my opinion I think the best fit would be a polynomial regression, so let us draw a line of polynomial regression.\n",
    "\n",
    "To draw a line through the data points, we use the plot() method of the matplotlib module:"
   ]
  },
  {
   "cell_type": "code",
   "execution_count": 45,
   "metadata": {},
   "outputs": [
    {
     "data": {
      "image/png": "[encoded data removed]",
      "text/plain": [
       "<Figure size 432x288 with 1 Axes>"
      ]
     },
     "metadata": {
      "needs_background": "light"
     },
     "output_type": "display_data"
    }
   ],
   "source": [
    "# Draw a polynomial regression line through the data\n",
    "\n",
    "np.random.seed(2) # Set the random seed to 2\n",
    "\n",
    "x = np.random.normal(3, 1, 100) # Create a random array of 100 values\n",
    "y = np.random.normal(150, 40, 100) / x # Create a random array of 100 values\n",
    "\n",
    "train_x = x[:80] # Split the data into training and test sets\n",
    "train_y = y[:80] # Split the data into training and test sets\n",
    "\n",
    "test_x = x[80:] # Split the data into training and test sets\n",
    "test_y = y[80:] # Split the data into training and test sets\n",
    "\n",
    "mymodel = np.poly1d(np.polyfit(train_x, train_y, 4)) # Create the polynomial model\n",
    "\n",
    "myline = np.linspace(0,6,100) # Create a line to plot the polynomial model\n",
    "\n",
    "plt.scatter(train_x, train_y) # Plot the training data\n",
    "plt.plot(myline, mymodel(myline)) # Plot the polynomial model\n",
    "plt.show() # Display the plot"
   ]
  },
  {
   "cell_type": "markdown",
   "metadata": {},
   "source": [
    "The result can back my suggestion of the dataset fitting a polynomial regression, even though it would give us some weird results if we try to predict values outside of the dataset. \n",
    "\n",
    "Example: the line indicates that a customer spending 6 minutes in the shop would make a purchase worth 200. That is probably a sign of overfitting.\n",
    "\n",
    "But what about the R-squared score? The R-squared score is a good indicator of how well our dataset is fitting the model."
   ]
  },
  {
   "cell_type": "markdown",
   "metadata": {},
   "source": [
    "## R2\n",
    "Remember R2, also known as R-squared?\n",
    "\n",
    "It measures the relationship between the x-axis and the y-axis, and the value ranges from 0 to 1, where 0 means no relationship, and 1 means totally related.\n",
    "\n",
    "The sklearn module has a method called r2_score() that will help us find this relationship.\n",
    "\n",
    "In this case we would like to measure the relationship between the minutes a customer stays in the shop and how much money they spend."
   ]
  },
  {
   "cell_type": "code",
   "execution_count": 46,
   "metadata": {},
   "outputs": [
    {
     "name": "stdout",
     "output_type": "stream",
     "text": [
      "0.7988645544629798\n"
     ]
    }
   ],
   "source": [
    "# How well does my training data fit the polynomial model?\n",
    "\n",
    "from sklearn.metrics import r2_score # Import the r2_score function\n",
    "\n",
    "np.random.seed(2) # Set the random seed to 2\n",
    "\n",
    "x = np.random.normal(3, 1, 100) # Create a random array of 100 values\n",
    "y = np.random.normal(150, 40, 100) / x # Create a random array of 100 values\n",
    "\n",
    "train_x = x[:80] # Split the data into training and test sets\n",
    "train_y = y[:80] # Split the data into training and test sets\n",
    "\n",
    "test_x = x[80:] # Split the data into training and test sets\n",
    "test_y = y[80:] # Split the data into training and test sets\n",
    "\n",
    "mymodel = np.poly1d(np.polyfit(train_x, train_y, 4)) # Create the polynomial model\n",
    "\n",
    "r2 = r2_score(train_y, mymodel(train_x)) # Calculate the r-squared value\n",
    "\n",
    "print(r2) # Print the r-squared value"
   ]
  },
  {
   "cell_type": "markdown",
   "metadata": {},
   "source": [
    "Note: The result 0.799 shows that there is a OK relationship."
   ]
  },
  {
   "cell_type": "markdown",
   "metadata": {},
   "source": [
    "## Bring in the Testing Set\n",
    "Now we have made a model that is OK, at least when it comes to training data.\n",
    "\n",
    "Now we want to test the model with the testing data as well, to see if gives us the same result."
   ]
  },
  {
   "cell_type": "code",
   "execution_count": 47,
   "metadata": {},
   "outputs": [
    {
     "name": "stdout",
     "output_type": "stream",
     "text": [
      "0.8086921460343705\n"
     ]
    }
   ],
   "source": [
    "# Find the R2 score when using the test data\n",
    "\n",
    "np.random.seed(2) # Set the random seed to 2\n",
    "\n",
    "x = np.random.normal(3, 1, 100) # Create a random array of 100 values\n",
    "y = np.random.normal(150, 40, 100) / x # Create a random array of 100 values\n",
    "\n",
    "train_x = x[:80] # Split the data into training and test sets\n",
    "train_y = y[:80] # Split the data into training and test sets\n",
    "\n",
    "test_x = x[80:] # Split the data into training and test sets\n",
    "test_y = y[80:] # Split the data into training and test sets\n",
    "\n",
    "mymodel = np.poly1d(np.polyfit(train_x, train_y, 4)) # Create the polynomial model\n",
    "\n",
    "r2 = r2_score(test_y, mymodel(test_x)) # Calculate the r-squared value\n",
    "\n",
    "print(r2) # Print the r-squared value"
   ]
  },
  {
   "cell_type": "markdown",
   "metadata": {},
   "source": [
    "Note: The result 0.809 shows that the model fits the testing set as well, and we are confident that we can use the model to predict future values."
   ]
  },
  {
   "cell_type": "markdown",
   "metadata": {},
   "source": [
    "## Predict Values\n",
    "Now that we have established that our model is OK, we can start predicting new values."
   ]
  },
  {
   "cell_type": "code",
   "execution_count": 48,
   "metadata": {},
   "outputs": [
    {
     "name": "stdout",
     "output_type": "stream",
     "text": [
      "22.87962591812402\n"
     ]
    }
   ],
   "source": [
    "# How much $$$ will a customer spend in the shop for 5 minutes?\n",
    "\n",
    "print(mymodel(5)) # Print the predicted Amount spent by a customer for 5 minutes"
   ]
  },
  {
   "cell_type": "markdown",
   "metadata": {},
   "source": [
    "The example predicted the customer to spend 22.88 dollars"
   ]
  },
  {
   "cell_type": "markdown",
   "metadata": {},
   "source": [
    "## Decision Tree\n",
    "In this chapter we will show you how to make a \"Decision Tree\". A Decision Tree is a Flow Chart, and can help you make decisions based on previous experience.\n",
    "\n",
    "In the example, a person will try to decide if he/she should go to a comedy show or not.\n",
    "\n",
    "Luckily our example person has registered every time there was a comedy show in town, and registered some information about the comedian, and also registered if he/she went or not.\n",
    "\n",
    "\n",
    "### Step 1\n",
    "To make a decision tree, all data has to be numerical.\n",
    "\n",
    "We have to convert the non numerical columns 'Nationality' and 'Go' into numerical values.\n",
    "\n",
    "### Step 2\n",
    "Then we have to separate the feature columns from the target column.\n",
    "\n",
    "The feature columns are the columns that we try to predict from, and the target column is the column with the values we try to predict."
   ]
  },
  {
   "cell_type": "markdown",
   "metadata": {},
   "source": [
    "## What is a confusion matrix?\n",
    "It is a table that is used in classification problems to assess where errors in the model were made.\n",
    "\n",
    "The rows represent the actual classes the outcomes should have been. While the columns represent the predictions we have made. Using this table it is easy to see which predictions are wrong.\n",
    "\n",
    "### Creating a Confusion Matrix\n",
    "Confusion matrixes can be created by predictions made from a logistic regression.\n",
    "\n",
    "For now we will generate actual and predicted values by utilizing NumPy:"
   ]
  },
  {
   "cell_type": "code",
   "execution_count": 49,
   "metadata": {},
   "outputs": [],
   "source": [
    "# Generate the numbers for \"Actual\" and \"Predicted\" values\n",
    "\n",
    "actual = np.random.normal(1, 0.9, size=1000) # Create a random array of 1000 values\n",
    "predicted = np.random.normal(1, 0.9, size=1000) # Create a random array of 1000 values"
   ]
  },
  {
   "cell_type": "code",
   "execution_count": 50,
   "metadata": {},
   "outputs": [
    {
     "data": {
      "image/png": "[encoded data removed]",
      "text/plain": [
       "<Figure size 432x288 with 2 Axes>"
      ]
     },
     "metadata": {
      "needs_background": "light"
     },
     "output_type": "display_data"
    }
   ],
   "source": [
    "# Create confusion matrix\n",
    "from sklearn import metrics # Import the metrics module\n",
    "\n",
    "actual = np.random.binomial(1,.9,size = 1000) # Create a random array of 1000 values\n",
    "predicted = np.random.binomial(1,.9,size = 1000) # Create a random array of 1000 values\n",
    "\n",
    "confusion_matrix = metrics.confusion_matrix(actual, predicted) # Calculate the confusion matrix\n",
    "\n",
    "cm_display = metrics.ConfusionMatrixDisplay(confusion_matrix = confusion_matrix, display_labels = [False, True]) # Create a confusion matrix display\n",
    "\n",
    "cm_display.plot() # Plot the confusion matrix\n",
    "plt.show() # Display the plot"
   ]
  },
  {
   "cell_type": "code",
   "execution_count": null,
   "metadata": {},
   "outputs": [],
   "source": []
  }
 ],
 "metadata": {
  "kernelspec": {
   "display_name": "Python 3.9.7 ('testenv')",
   "language": "python",
   "name": "python3"
  },
  "language_info": {
   "codemirror_mode": {
    "name": "ipython",
    "version": 3
   },
   "file_extension": ".py",
   "mimetype": "text/x-python",
   "name": "python",
   "nbconvert_exporter": "python",
   "pygments_lexer": "ipython3",
   "version": "3.9.7"
  },
  "orig_nbformat": 4,
  "vscode": {
   "interpreter": {
    "hash": "e7dcac8ef2a4373fcd43cbf0f6e5e0c5bb645199988d31c70579482fd0a0a4f5"
   }
  }
 },
 "nbformat": 4,
 "nbformat_minor": 2
}
